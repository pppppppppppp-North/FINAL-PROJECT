{
 "cells": [
  {
   "cell_type": "code",
   "execution_count": 20,
   "id": "1d2cbb2b",
   "metadata": {},
   "outputs": [],
   "source": [
    "\n",
    "import pandas as pd\n",
    "from sklearn.model_selection import train_test_split\n",
    "from sklearn.ensemble import RandomForestRegressor\n",
    "from sklearn.metrics import mean_absolute_error, r2_score\n",
    "import numpy as np"
   ]
  },
  {
   "cell_type": "code",
   "execution_count": 21,
   "id": "69566f77",
   "metadata": {},
   "outputs": [],
   "source": [
    "try:\n",
    "    df = pd.read_csv('DXY.csv')\n",
    "except FileNotFoundError:\n",
    "    print(\"Error: DXY.csv not found. Please ensure the file is in the correct directory.\")\n",
    "    exit()"
   ]
  },
  {
   "cell_type": "code",
   "execution_count": 22,
   "id": "37b49974",
   "metadata": {},
   "outputs": [],
   "source": [
    "required_columns = ['Open', 'High', 'Low', 'Close']\n",
    "if not all(col in df.columns for col in required_columns):\n",
    "    print(f\"Error: Missing one or more required columns ({required_columns}) in DXY.csv.\")\n",
    "    exit()"
   ]
  },
  {
   "cell_type": "code",
   "execution_count": 23,
   "id": "c52333a2",
   "metadata": {},
   "outputs": [],
   "source": [
    "df['Prev_Open'] = df['Open'].shift(1)\n",
    "df['Prev_High'] = df['High'].shift(1)\n",
    "df['Prev_Low'] = df['Low'].shift(1)\n",
    "df['Prev_Close'] = df['Close'].shift(1)"
   ]
  },
  {
   "cell_type": "code",
   "execution_count": 24,
   "id": "54572bc4",
   "metadata": {},
   "outputs": [],
   "source": [
    "df.dropna(inplace=True)"
   ]
  },
  {
   "cell_type": "code",
   "execution_count": 25,
   "id": "601e6acf",
   "metadata": {},
   "outputs": [],
   "source": [
    "X = df[['Prev_Open', 'Prev_High', 'Prev_Low', 'Prev_Close']]\n",
    "y = df[['Open', 'High', 'Low', 'Close']]"
   ]
  },
  {
   "cell_type": "code",
   "execution_count": 26,
   "id": "94a51a0d",
   "metadata": {},
   "outputs": [],
   "source": [
    "X_train, X_test, y_train, y_test = train_test_split(X, y, test_size=0.2, random_state=42)\n"
   ]
  },
  {
   "cell_type": "code",
   "execution_count": 27,
   "id": "5dd7bdc9",
   "metadata": {},
   "outputs": [],
   "source": [
    "model = RandomForestRegressor(n_estimators=100, random_state=42, n_jobs=-1)\n"
   ]
  },
  {
   "cell_type": "code",
   "execution_count": 28,
   "id": "c2c38f16",
   "metadata": {},
   "outputs": [
    {
     "name": "stdout",
     "output_type": "stream",
     "text": [
      "Training the model...\n",
      "Model training complete.\n"
     ]
    }
   ],
   "source": [
    "print(\"Training the model...\")\n",
    "model.fit(X_train, y_train)\n",
    "print(\"Model training complete.\")"
   ]
  },
  {
   "cell_type": "code",
   "execution_count": 29,
   "id": "d3df860b",
   "metadata": {},
   "outputs": [],
   "source": [
    "y_pred = model.predict(X_test)"
   ]
  },
  {
   "cell_type": "code",
   "execution_count": 30,
   "id": "01ebc071",
   "metadata": {},
   "outputs": [
    {
     "name": "stdout",
     "output_type": "stream",
     "text": [
      "\n",
      "--- Model Evaluation ---\n"
     ]
    }
   ],
   "source": [
    "print(\"\\n--- Model Evaluation ---\")"
   ]
  },
  {
   "cell_type": "code",
   "execution_count": 31,
   "id": "d004cb4e",
   "metadata": {},
   "outputs": [],
   "source": [
    "mae_open = mean_absolute_error(y_test['Open'], y_pred[:, 0])\n",
    "mae_high = mean_absolute_error(y_test['High'], y_pred[:, 1])\n",
    "mae_low = mean_absolute_error(y_test['Low'], y_pred[:, 2])\n",
    "mae_close = mean_absolute_error(y_test['Close'], y_pred[:, 3])"
   ]
  },
  {
   "cell_type": "code",
   "execution_count": 32,
   "id": "7f7a9487",
   "metadata": {},
   "outputs": [
    {
     "name": "stdout",
     "output_type": "stream",
     "text": [
      "Mean Absolute Error (Open): 0.3449\n",
      "Mean Absolute Error (High): 0.6613\n",
      "Mean Absolute Error (Low): 0.1785\n",
      "Mean Absolute Error (Close): 0.1785\n"
     ]
    }
   ],
   "source": [
    "print(f\"Mean Absolute Error (Open): {mae_open:.4f}\")\n",
    "print(f\"Mean Absolute Error (High): {mae_high:.4f}\")\n",
    "print(f\"Mean Absolute Error (Low): {mae_low:.4f}\")\n",
    "print(f\"Mean Absolute Error (Close): {mae_close:.4f}\")"
   ]
  },
  {
   "cell_type": "code",
   "execution_count": 33,
   "id": "9d55d07f",
   "metadata": {},
   "outputs": [
    {
     "name": "stdout",
     "output_type": "stream",
     "text": [
      "Overall R-squared: -0.1376\n"
     ]
    }
   ],
   "source": [
    "r2_overall = r2_score(y_test, y_pred)\n",
    "print(f\"Overall R-squared: {r2_overall:.4f}\")"
   ]
  },
  {
   "cell_type": "code",
   "execution_count": 34,
   "id": "c907cf2c",
   "metadata": {},
   "outputs": [],
   "source": [
    "r2_open = r2_score(y_test['Open'], y_pred[:, 0])\n",
    "r2_high = r2_score(y_test['High'], y_pred[:, 1])\n",
    "r2_low = r2_score(y_test['Low'], y_pred[:, 2])\n",
    "r2_close = r2_score(y_test['Close'], y_pred[:, 3])"
   ]
  },
  {
   "cell_type": "code",
   "execution_count": 35,
   "id": "5b379444",
   "metadata": {},
   "outputs": [
    {
     "name": "stdout",
     "output_type": "stream",
     "text": [
      "R-squared (Open): -0.1785\n",
      "R-squared (High): -0.1458\n",
      "R-squared (Low): -0.0913\n",
      "R-squared (Close): -0.1350\n"
     ]
    }
   ],
   "source": [
    "print(f\"R-squared (Open): {r2_open:.4f}\")\n",
    "print(f\"R-squared (High): {r2_high:.4f}\")\n",
    "print(f\"R-squared (Low): {r2_low:.4f}\")\n",
    "print(f\"R-squared (Close): {r2_close:.4f}\")"
   ]
  },
  {
   "cell_type": "code",
   "execution_count": 36,
   "id": "78decae2",
   "metadata": {},
   "outputs": [],
   "source": [
    "prev_close_for_direction_check = X_test['Prev_Close']\n",
    "actual_direction = np.sign(y_test['Close'] - prev_close_for_direction_check)\n",
    "predicted_direction = np.sign(y_pred[:, 3] - prev_close_for_direction_check)\n",
    "correct_direction_predictions = (actual_direction == predicted_direction) & (actual_direction != 0)\n",
    "total_directional_moves = (actual_direction != 0).sum()\n",
    "win_rate = (correct_direction_predictions.sum() / total_directional_moves) * 100 \\\n",
    "           if total_directional_moves > 0 else 0"
   ]
  },
  {
   "cell_type": "code",
   "execution_count": 37,
   "id": "73c9505f",
   "metadata": {},
   "outputs": [
    {
     "name": "stdout",
     "output_type": "stream",
     "text": [
      "Win Rate (Close Price Direction): 74.76%\n"
     ]
    }
   ],
   "source": [
    "print(f\"Win Rate (Close Price Direction): {win_rate:.2f}%\")"
   ]
  },
  {
   "cell_type": "code",
   "execution_count": 38,
   "id": "bfeb9240",
   "metadata": {},
   "outputs": [
    {
     "name": "stdout",
     "output_type": "stream",
     "text": [
      "\n",
      "--- Example Prediction ---\n",
      "Using previous candle OHLC: [ 0.11999512  0.63999939 -0.27000427 -0.25      ]\n",
      "Predicted next candle OHLC (Open, High, Low, Close): [-0.0791 -0.1521  0.0095  0.0635]\n"
     ]
    }
   ],
   "source": [
    "if not df.empty:\n",
    "    last_candle_data = df[['Open', 'High', 'Low', 'Close']].iloc[-1].values\n",
    "    \n",
    "    new_prediction_input = pd.DataFrame(\n",
    "        [last_candle_data],\n",
    "        columns=['Prev_Open', 'Prev_High', 'Prev_Low', 'Prev_Close']\n",
    "    )\n",
    "\n",
    "    predicted_next_candle = model.predict(new_prediction_input)\n",
    "    print(\"\\n--- Example Prediction ---\")\n",
    "    print(f\"Using previous candle OHLC: {last_candle_data}\")\n",
    "    print(f\"Predicted next candle OHLC (Open, High, Low, Close): {predicted_next_candle[0].round(4)}\")\n",
    "else:\n",
    "    print(\"\\nNo data available for example prediction after processing.\")\n"
   ]
  }
 ],
 "metadata": {
  "kernelspec": {
   "display_name": "Python 3",
   "language": "python",
   "name": "python3"
  },
  "language_info": {
   "codemirror_mode": {
    "name": "ipython",
    "version": 3
   },
   "file_extension": ".py",
   "mimetype": "text/x-python",
   "name": "python",
   "nbconvert_exporter": "python",
   "pygments_lexer": "ipython3",
   "version": "3.11.9"
  }
 },
 "nbformat": 4,
 "nbformat_minor": 5
}
